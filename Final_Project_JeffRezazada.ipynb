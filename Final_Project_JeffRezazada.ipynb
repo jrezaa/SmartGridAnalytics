{
  "cells": [
    {
      "cell_type": "markdown",
      "metadata": {
        "id": "view-in-github",
        "colab_type": "text"
      },
      "source": [
        "<a href=\"https://colab.research.google.com/github/jrezaa/SmartGridAnalytics/blob/main/Final_Project_JeffRezazada.ipynb\" target=\"_parent\"><img src=\"https://colab.research.google.com/assets/colab-badge.svg\" alt=\"Open In Colab\"/></a>"
      ]
    },
    {
      "cell_type": "markdown",
      "metadata": {
        "id": "4GnP8h6Gl3lC"
      },
      "source": [
        "#Smart Grid Analytics: Power Balance Management System\n",
        "\n",
        "Lets check out the data!"
      ]
    },
    {
      "cell_type": "markdown",
      "metadata": {
        "id": "fQBULiJqodAf"
      },
      "source": [
        "## Data Analysis"
      ]
    },
    {
      "cell_type": "code",
      "execution_count": null,
      "metadata": {
        "colab": {
          "base_uri": "https://localhost:8080/"
        },
        "id": "aqK8Fvut-G2z",
        "outputId": "e06b0a63-8aea-4b7f-f054-479d16a7be69"
      },
      "outputs": [
        {
          "output_type": "stream",
          "name": "stdout",
          "text": [
            "Requirement already satisfied: bayesian-optimization in /usr/local/lib/python3.10/dist-packages (1.4.3)\n",
            "Requirement already satisfied: numpy>=1.9.0 in /usr/local/lib/python3.10/dist-packages (from bayesian-optimization) (1.23.5)\n",
            "Requirement already satisfied: scipy>=1.0.0 in /usr/local/lib/python3.10/dist-packages (from bayesian-optimization) (1.11.4)\n",
            "Requirement already satisfied: scikit-learn>=0.18.0 in /usr/local/lib/python3.10/dist-packages (from bayesian-optimization) (1.2.2)\n",
            "Requirement already satisfied: colorama>=0.4.6 in /usr/local/lib/python3.10/dist-packages (from bayesian-optimization) (0.4.6)\n",
            "Requirement already satisfied: joblib>=1.1.1 in /usr/local/lib/python3.10/dist-packages (from scikit-learn>=0.18.0->bayesian-optimization) (1.3.2)\n",
            "Requirement already satisfied: threadpoolctl>=2.0.0 in /usr/local/lib/python3.10/dist-packages (from scikit-learn>=0.18.0->bayesian-optimization) (3.2.0)\n"
          ]
        }
      ],
      "source": [
        "# Installing required libraries for hyper parameter tuning\n",
        "%pip install bayesian-optimization"
      ]
    },
    {
      "cell_type": "code",
      "execution_count": null,
      "metadata": {
        "colab": {
          "base_uri": "https://localhost:8080/"
        },
        "id": "aARtLrvYiYun",
        "outputId": "a1b4b2da-7164-46e7-88d4-cb1fa65c4d83"
      },
      "outputs": [
        {
          "output_type": "stream",
          "name": "stdout",
          "text": [
            "           tau1      tau2      tau3      tau4        p1        p2        p3  \\\n",
            "0      2.959060  3.079885  8.381025  9.780754  3.763085 -0.782604 -1.257395   \n",
            "1      9.304097  4.902524  3.047541  1.369357  5.067812 -1.940058 -1.872742   \n",
            "2      8.971707  8.848428  3.046479  1.214518  3.405158 -1.207456 -1.277210   \n",
            "3      0.716415  7.669600  4.486641  2.340563  3.963791 -1.027473 -1.938944   \n",
            "4      3.134112  7.608772  4.943759  9.857573  3.525811 -1.125531 -1.845975   \n",
            "...         ...       ...       ...       ...       ...       ...       ...   \n",
            "59995  2.930406  2.376523  9.487627  6.187797  3.343416 -1.449106 -0.658054   \n",
            "59996  3.392299  2.954947  1.274827  6.894759  4.349512 -0.952437 -1.663661   \n",
            "59997  2.364034  8.776391  2.842030  1.008906  4.299976 -0.943884 -1.380719   \n",
            "59998  9.631511  2.757071  3.994398  7.821347  2.514755 -0.649915 -0.966330   \n",
            "59999  6.530527  4.349695  6.781790  8.673138  3.492807 -1.532193 -1.390285   \n",
            "\n",
            "             p4        g1        g2        g3        g4      stab     stabf  \n",
            "0     -1.723086  0.650456  0.859578  0.887445  0.958034  0.055347  unstable  \n",
            "1     -1.255012  0.413441  0.862414  0.562139  0.781760 -0.005957    stable  \n",
            "2     -0.920492  0.163041  0.766689  0.839444  0.109853  0.003471  unstable  \n",
            "3     -0.997374  0.446209  0.976744  0.929381  0.362718  0.028871  unstable  \n",
            "4     -0.554305  0.797110  0.455450  0.656947  0.820923  0.049860  unstable  \n",
            "...         ...       ...       ...       ...       ...       ...       ...  \n",
            "59995 -1.236256  0.601709  0.813512  0.779642  0.608385  0.023892  unstable  \n",
            "59996 -1.733414  0.502079  0.285880  0.567242  0.366120 -0.025803    stable  \n",
            "59997 -1.975373  0.487838  0.149286  0.986505  0.145984 -0.031810    stable  \n",
            "59998 -0.898510  0.365246  0.889118  0.587558  0.818391  0.037789  unstable  \n",
            "59999 -0.570329  0.073056  0.378761  0.505441  0.942631  0.045263  unstable  \n",
            "\n",
            "[60000 rows x 14 columns]\n",
            "All features:  ['tau1', 'tau2', 'tau3', 'tau4', 'p1', 'p2', 'p3', 'p4', 'g1', 'g2', 'g3', 'g4', 'stab', 'stabf']\n",
            "Data size:  60000\n",
            "Are there any NaN values in the DataFrame? False\n",
            "Categorical features:  ['stabf']\n"
          ]
        }
      ],
      "source": [
        "import pandas as pd\n",
        "raw_data = pd.read_csv(\"./sample_data/smart_grid_stability_augmented.csv\")\n",
        "print(raw_data)\n",
        "\n",
        "# Print all features\n",
        "print(\"All features: \",list(raw_data.columns))\n",
        "\n",
        "print(\"Data size: \", raw_data.shape[0])\n",
        "\n",
        "has_nan = raw_data.isna().any().any()\n",
        "\n",
        "print(\"Are there any NaN values in the DataFrame?\", has_nan)\n",
        "\n",
        "# Print all categorical features\n",
        "print(\"Categorical features: \",list(raw_data.select_dtypes(include=['object']).columns))\n"
      ]
    },
    {
      "cell_type": "markdown",
      "metadata": {
        "id": "sGPswnK3moUK"
      },
      "source": [
        "### Features:\n",
        "\n",
        "Looking at the data, we have 12 features, as well as 1-2 labels. The stab and stabf essentially relay the same information, which should be caught by the correlation heat map.\n",
        "\n",
        "<h2>tau1 - tau4 (Reaction Time of Producer and Consumers)</h2>\n",
        "<ul>\n",
        "    <li><b>tau1 (Reaction time - Energy producer):</b> Represents the time it takes for an energy producer to react to changes or demands in the grid. A faster reaction time could indicate a more responsive and potentially more stable grid system.</li>\n",
        "    <li><b>tau2 (Reaction time - Consumer 1):</b> Represents the reaction time of Consumer 1 to changes in the grid. Faster reaction times could correlate with better grid stability and efficiency.</li>\n",
        "    <li><b>tau3 (Reaction time - Consumer 2):</b> Similar to tau2, it indicates the reaction time of Consumer 2 to grid changes.</li>\n",
        "    <li><b>tau4 (Reaction time - Consumer 3):</b> Similar to tau2 and tau3, it indicates the reaction time of Consumer 3</li>\n",
        "</ul>\n",
        "\n",
        "<h2>p1 - p4 (Power Balance of Producer and Consumers)</h2>\n",
        "<ul>\n",
        "    <li><b>p1 (Power balance - Energy producer):</b> A measure of the power output balance for the energy producer. It indicates whether the producer is meeting, exceeding, or falling short of the power demand.</li>\n",
        "    <li><b>p2 (Power balance - Consumer 1):</b> Indicates the power balance for Consumer 1, showing their power usage compared to expectations or allocations.</li>\n",
        "    <li><b>p3 (Power balance - Consumer 2):</b> Reflects the power balance for Consumer 2, providing insight into their energy consumption patterns.</li>\n",
        "    <li><b>p4 (Power balance - Consumer 3):</b> Similar to p2 and p3, it represents the power balance for Consumer 3.</li>\n",
        "</ul>\n",
        "\n",
        "<h2>g1 - g4 (Price Elasticity Coefficient of Producer and Consumers)</h2>\n",
        "<ul>\n",
        "    <li><b>g1 (Price elasticity coefficient - Energy producer):</b> Measures how sensitive the energy producer is to price changes. Higher elasticity indicates a significant change in electricity production in response to price fluctuations.</li>\n",
        "    <li><b>g2 (Price elasticity coefficient - Consumer 1):</b> Represents the price elasticity of Consumer 1, showing their sensitivity to price changes in terms of electricity consumption.</li>\n",
        "    <li><b>g3 (Price elasticity coefficient - Consumer 2):</b> Similar to g2, it indicates the price elasticity of Consumer 2.</li>\n",
        "    <li><b>g4 (Price elasticity coefficient - Consumer 3):</b> Indicates the price elasticity of Consumer 3, reflecting their economic responsiveness to electricity pricing.</li>\n",
        "</ul>\n",
        "\n",
        "\n",
        "\n"
      ]
    },
    {
      "cell_type": "markdown",
      "metadata": {
        "id": "H22mLRP8o72N"
      },
      "source": [
        "##Cleaning the Data\n",
        "\n",
        "The label column is categorical, and we should encode these in simple binary labels, 0 being stable, 1 being unstable."
      ]
    },
    {
      "cell_type": "code",
      "execution_count": null,
      "metadata": {
        "colab": {
          "base_uri": "https://localhost:8080/"
        },
        "id": "gzl8MOj6o_uf",
        "outputId": "85658c2e-95b8-4ede-b513-4f126e04a6cc"
      },
      "outputs": [
        {
          "output_type": "stream",
          "name": "stdout",
          "text": [
            "1    38280\n",
            "0    21720\n",
            "Name: stabf, dtype: int64\n",
            "\n",
            "Percentage of stable vs total: 0.362\n"
          ]
        }
      ],
      "source": [
        "encoded_labels = raw_data.copy()\n",
        "encoded_labels['stabf'] = encoded_labels['stabf'].map({'stable': 0, 'unstable': 1})\n",
        "\n",
        "counts = encoded_labels['stabf'].value_counts()\n",
        "print(counts)\n",
        "\n",
        "\n",
        "print(f\"\\nPercentage of stable vs total: {counts[0]/(counts[0] + counts[1])}\")"
      ]
    },
    {
      "cell_type": "markdown",
      "metadata": {
        "id": "4rk_jlcAp8Ek"
      },
      "source": [
        "The encoding was successful, and we can see the data is roughly split into 36% stable data vs 64% stable data."
      ]
    },
    {
      "cell_type": "markdown",
      "metadata": {
        "id": "91ixUgSrq50D"
      },
      "source": [
        "### Low Variance Removal\n",
        "\n",
        "The next step would be to remove any features with low variance. This is done as low variance in features suggests that the feature does not contribute new information for the machine learning model, which removal, can lead to faster training times. If the features don't help the model, we should remove them."
      ]
    },
    {
      "cell_type": "code",
      "execution_count": null,
      "metadata": {
        "colab": {
          "base_uri": "https://localhost:8080/"
        },
        "id": "pSrKqk5sqhSC",
        "outputId": "10a1fe1c-468a-4d69-d4cf-3c8ab440e87d"
      },
      "outputs": [
        {
          "output_type": "stream",
          "name": "stdout",
          "text": [
            "Removing the following from feature set: \n",
            "var_removal_list = []\n"
          ]
        }
      ],
      "source": [
        "# Creating function to remove low variance in features\n",
        "def remove_low_variance(data, threshold):\n",
        "  var_removal_list = []\n",
        "  for col in data.columns:\n",
        "    if data[col].var() < threshold:\n",
        "        var_removal_list.append(col)\n",
        "\n",
        "  print(f\"Removing the following from feature set: \\n{var_removal_list = }\")\n",
        "\n",
        "  # Return the data with dropped columns\n",
        "  return data.drop(columns=var_removal_list)\n",
        "\n",
        "# Setting variation threshold\n",
        "VARIATION_THRESHOLD = 1e-3\n",
        "\n",
        "low_var_removed = remove_low_variance(encoded_labels, VARIATION_THRESHOLD)"
      ]
    },
    {
      "cell_type": "markdown",
      "metadata": {
        "id": "L87SgogbrSky"
      },
      "source": [
        "We can see that with the threshold set of 1e-3, no features have low variance. We should not remove any features due to variance."
      ]
    },
    {
      "cell_type": "markdown",
      "metadata": {
        "id": "icJgCQqwq4bH"
      },
      "source": [
        "###Feature Selection\n",
        "\n",
        "First we have to look at the heatmap for the correlation matrix."
      ]
    },
    {
      "cell_type": "code",
      "execution_count": null,
      "metadata": {
        "colab": {
          "base_uri": "https://localhost:8080/",
          "height": 1000
        },
        "id": "Ua5v-NG8rHZE",
        "outputId": "dea71d14-4328-41dd-b34d-1ecf4559cda2"
      },
      "outputs": [
        {
          "output_type": "display_data",
          "data": {
            "text/plain": [
              "<Figure size 2000x2000 with 2 Axes>"
            ],
            "image/png": "[encoded data removed]"
          },
          "metadata": {}
        }
      ],
      "source": [
        "import seaborn as sns\n",
        "import matplotlib.pyplot as plt\n",
        "\n",
        "# Creating function for heatmaps\n",
        "def heatmap(corr_matrix):\n",
        "  corr_matrix.style.background_gradient(cmap=\"coolwarm\", axis=None)\n",
        "  sns.set(rc={\"figure.figsize\": (20, 20)})\n",
        "  sns.heatmap(corr_matrix, fmt=\"0.2f\", annot=True, xticklabels=corr_matrix.columns.values,\n",
        "              yticklabels=corr_matrix.columns.values)\n",
        "  plt.show()\n",
        "\n",
        "# # Removing the dependent variable \"Price\"\n",
        "# cars_data_no_price = cars_data.copy()\n",
        "# cars_data_no_price.drop(\"Price\", inplace=True, axis=1)\n",
        "\n",
        "# Getting correlation matrix\n",
        "corr_matrix = abs(low_var_removed.corr())\n",
        "\n",
        "# Showing heatmap\n",
        "heatmap(corr_matrix)"
      ]
    },
    {
      "cell_type": "markdown",
      "metadata": {
        "id": "IOi-v4IUrmI0"
      },
      "source": [
        "As we suspected, stab and stabf are correlated, we will remove stabf, as the labels are not necessary. Looking at the heatmap, as we only have 14 features, and having a generous cutoff of 0.7, we do not need to remove any features due to correlation. Earlier encoding was performed for analysis, but due to the nature of the binary data holding less information than the stab values, I chose to remove the encoded values.\n",
        "\n",
        "We will still check using python code, to be sure that the code is robust to data changes."
      ]
    },
    {
      "cell_type": "code",
      "execution_count": null,
      "metadata": {
        "colab": {
          "base_uri": "https://localhost:8080/"
        },
        "id": "TetIgixDr6cq",
        "outputId": "88aa8382-37dc-4162-ec1d-c45baf3f5dfc"
      },
      "outputs": [
        {
          "output_type": "stream",
          "name": "stdout",
          "text": [
            "correlated_features = {('stab', 'stabf')}\n"
          ]
        }
      ],
      "source": [
        "# Creating function to find correlated pairs\n",
        "def find_correlated_pairs(dataset, corr_matrix, threshold):\n",
        "    highly_correlated_features = set()\n",
        "    for col in list(dataset.columns):\n",
        "      for ind, val in enumerate(corr_matrix[col]):\n",
        "        if abs(val) > threshold and val != 1.0:\n",
        "          correlated_feature = corr_matrix.index[ind]\n",
        "          highly_correlated_features.add(tuple(sorted((col, correlated_feature))))\n",
        "\n",
        "    return highly_correlated_features\n",
        "\n",
        "# Choosing correlation threshold\n",
        "CORRELATION_THRESHOLD = 0.7\n",
        "\n",
        "correlated_features = find_correlated_pairs(low_var_removed, corr_matrix, CORRELATION_THRESHOLD)\n",
        "print(f\"{correlated_features = }\")\n",
        "\n",
        "feature_selected = low_var_removed.drop(\"stab\", axis=1)\n"
      ]
    },
    {
      "cell_type": "markdown",
      "metadata": {
        "id": "6OXfqFfRg20V"
      },
      "source": [
        "We can see that the correlated features are caught (\"stab\", \"stabf\")."
      ]
    },
    {
      "cell_type": "markdown",
      "metadata": {
        "id": "RTGui72TvweN"
      },
      "source": [
        "### P Value Analysis\n",
        "\n",
        "Another aspect of feature selection is based on p-values, so let's check these."
      ]
    },
    {
      "cell_type": "code",
      "execution_count": null,
      "metadata": {
        "colab": {
          "base_uri": "https://localhost:8080/"
        },
        "id": "xjAz57Qvsy4c",
        "outputId": "dabf8e98-2dea-44ab-da35-f1698288ed78"
      },
      "outputs": [
        {
          "output_type": "stream",
          "name": "stdout",
          "text": [
            "all_p_values = {'tau1': 0.0, 'tau2': 0.0, 'tau3': 0.0, 'tau4': 0.0, 'p1': 0.014923868363159074, 'p2': 0.15873157892011802, 'p3': 0.15873157892011802, 'p4': 0.15873157892011802, 'g1': 0.0, 'g2': 0.0, 'g3': 0.0, 'g4': 0.0, 'stabf': 0.0}\n",
            "Features with High P-values:\n",
            "p2: 1.59e-01\n",
            "p3: 1.59e-01\n",
            "p4: 1.59e-01\n"
          ]
        }
      ],
      "source": [
        "from scipy.stats import pearsonr\n",
        "\n",
        "# Find p-values from the dataset knowing the target_variable\n",
        "def find_p_values(dataset, features, target_variable):\n",
        "  p_values = {}\n",
        "  for feature in features:\n",
        "    if dataset[feature].dtype != 'object':  # Consider only numerical columns\n",
        "      corr, p_value = pearsonr(dataset[feature], dataset[target_variable])\n",
        "      p_values[feature] = p_value  # Store the actual p-value\n",
        "\n",
        "  return p_values\n",
        "\n",
        "# Removing the largest p-value from the pairs\n",
        "def detect_large_p_values(data):\n",
        "  p_value_removal_list = []\n",
        "  all_features = list(data.columns)\n",
        "  all_p_values = find_p_values(data, all_features, \"stabf\")\n",
        "\n",
        "  print(f\"{all_p_values = }\")\n",
        "\n",
        "  # Identifying high p-values\n",
        "  for feature, p_value in all_p_values.items():\n",
        "    if p_value > 0.05:\n",
        "        p_value_removal_list.append((feature, p_value))\n",
        "\n",
        "  # Printing features with high p-values\n",
        "  if p_value_removal_list:\n",
        "    print(\"Features with High P-values:\")\n",
        "    for feature, p_value in p_value_removal_list:\n",
        "      print(f\"{feature}: {p_value:.2e}\")\n",
        "  else:\n",
        "    print(\"No features with p-value higher than 0.05 were found.\")\n",
        "\n",
        "detect_large_p_values(feature_selected)\n",
        "\n",
        "p_consumer_removed = feature_selected.copy()\n",
        "p_consumer_removed = p_consumer_removed.drop(['p2', 'p3', 'p4'], axis=1)"
      ]
    },
    {
      "cell_type": "markdown",
      "metadata": {
        "id": "KNOmlJRJwlJ9"
      },
      "source": [
        "Looking at these features, the p-values are indeed above 0.05 threshold. Although in the normal case, these would be removed, I believe due to the objective of this algorithm, we should keep them.\n",
        "\n",
        "<br>\n",
        "<h4><b>The following was from a previous edit:</b></h4>\n",
        "*While the higher p-values for p2, p3, and p4 suggest they are not statistically significant predictors, this doesn't automatically mean they have no practical relevance. They might capture aspects of the data that are not immediately apparent but could still be useful in certain contexts or combined with other features. We will verify this decision in later portions of the code and save both datasets (p_consumer_removed is the dataset without p2-p4).*\n",
        "\n",
        "<br>\n",
        "\n",
        "<h4><b>After Testing:</b></h4>\n",
        "It was found that p2-p4 negatively affected the performance of the model, and should be removed. I believe this is because they do not provide very useful data to the model, yet increase the complexity. Due to this, the model having more parameters to consider, had a more difficult time converging to an acceptable performance. They were removed for the analysis.\n",
        "\n",
        "***To verify, please use \"feature_selected\" dataframe instead of \"p_consumer_removed\" data.***"
      ]
    },
    {
      "cell_type": "markdown",
      "metadata": {
        "id": "dRNYNYOUyOji"
      },
      "source": [
        "### Normalizing\n",
        "After cleaning the data, the data should be normalized. Normalizing data for machine learning ensures that features have the same scale, which can improve convergence speed in gradient-based algorithms and maintain consistent feature importance across various models."
      ]
    },
    {
      "cell_type": "code",
      "execution_count": null,
      "metadata": {
        "id": "HirMHTvyyqEn"
      },
      "outputs": [],
      "source": [
        "import pandas as pd\n",
        "from sklearn.preprocessing import StandardScaler\n",
        "\n",
        "scaler = StandardScaler()\n",
        "\n",
        "# Assuming 'feature_selected' and 'p_consumer_removed' are your dataframes\n",
        "# And 'stabf' is the categorical column that you don't want to normalize\n",
        "\n",
        "# Separate numerical and categorical data\n",
        "numerical_feature_selected = feature_selected.drop(columns=['stabf'])\n",
        "categorical_feature_selected = feature_selected[['stabf']]\n",
        "\n",
        "numerical_p_consumer_removed = p_consumer_removed.drop(columns=['stabf'])\n",
        "categorical_p_consumer_removed = p_consumer_removed[['stabf']]\n",
        "\n",
        "\n",
        "# Apply scaling to numerical data\n",
        "scaled_numerical_feature_selected = pd.DataFrame(scaler.fit_transform(numerical_feature_selected), columns=numerical_feature_selected.columns)\n",
        "scaled_numerical_p_consumer_removed = pd.DataFrame(scaler.fit_transform(numerical_p_consumer_removed), columns=numerical_p_consumer_removed.columns)\n",
        "\n",
        "# Concatenate the scaled numerical data back with the categorical data\n",
        "scaled_data = pd.concat([scaled_numerical_feature_selected, categorical_feature_selected], axis=1)\n",
        "scaled_data_p_removed = pd.concat([scaled_numerical_p_consumer_removed, categorical_p_consumer_removed], axis=1)"
      ]
    },
    {
      "cell_type": "markdown",
      "metadata": {
        "id": "Sybh53Ygzk8_"
      },
      "source": [
        "### Removing Outliers\n",
        "\n",
        "DBSCAN (Density-Based Spatial Clustering of Applications with Noise) is an effective clustering algorithm that can also be used for outlier detection.\n",
        "\n",
        "First lets visualize the optimal eps value to use for DBSCAN at min_samples = 5. The following graph shows the kth nearest neighbour distance, where k = 5."
      ]
    },
    {
      "cell_type": "code",
      "execution_count": null,
      "metadata": {
        "colab": {
          "base_uri": "https://localhost:8080/",
          "height": 1000
        },
        "id": "_Hr0XqX61Lou",
        "outputId": "8bdd5a82-3b77-4f48-8b15-9aaf4d31b7f8"
      },
      "outputs": [
        {
          "output_type": "display_data",
          "data": {
            "text/plain": [
              "<Figure size 2000x2000 with 1 Axes>"
            ],
            "image/png": "[encoded data removed]"
          },
          "metadata": {}
        }
      ],
      "source": [
        "from sklearn.neighbors import NearestNeighbors\n",
        "import matplotlib.pyplot as plt\n",
        "import numpy as np\n",
        "\n",
        "def plot_k_distance(df, k=5):\n",
        "  \"\"\"\n",
        "  Plot the k-distance graph to find the optimal eps value for DBSCAN.\n",
        "\n",
        "  Parameters:\n",
        "  df (DataFrame): The input DataFrame.\n",
        "  k (int): Number of neighbors to use for the k-neighbors calculation.\n",
        "\n",
        "  \"\"\"\n",
        "  # Store the 'stabf' column in a separate variable\n",
        "  stabf_labels = df['stabf']\n",
        "\n",
        "  # Remove the 'stabf' column from the DataFrame\n",
        "  df = df.drop(columns=['stabf'])\n",
        "  # Calculate the distance to the kth nearest neighbor for each point\n",
        "  nbrs = NearestNeighbors(n_neighbors=k).fit(df)\n",
        "  distances, indices = nbrs.kneighbors(df)\n",
        "\n",
        "  # Sort and plot distances\n",
        "  sorted_distances = np.sort(distances[:, k-1])\n",
        "  plt.plot(sorted_distances)\n",
        "  plt.xlabel(\"Points sorted according to distance of the \" + str(k) + \"th nearest neighbor\")\n",
        "  plt.ylabel(str(k) + \"th nearest neighbor distance\")\n",
        "  plt.show()\n",
        "\n",
        "plot_k_distance(scaled_data_p_removed)"
      ]
    },
    {
      "cell_type": "markdown",
      "metadata": {
        "id": "G3jpLBgm22MN"
      },
      "source": [
        "Looking at this graph showing the distances, we want to find an \"elbow point\" to set eps for DBSCAN. It looks like an appropriate value can be set around 1.3.\n",
        "\n",
        "Although outliers may or may not affect our algorithm, it should be noted that outliers may be necessary in analysis, as some outliers may carry important information. For this reason, the model will be trained on both to validate whether or not outliers should be removed."
      ]
    },
    {
      "cell_type": "code",
      "execution_count": null,
      "metadata": {
        "colab": {
          "base_uri": "https://localhost:8080/"
        },
        "id": "JsH9SAFvz544",
        "outputId": "24f4fe82-150c-4a89-a5cf-a474183f754f"
      },
      "outputs": [
        {
          "output_type": "stream",
          "name": "stdout",
          "text": [
            "Number of removed outliers:  1734\n"
          ]
        }
      ],
      "source": [
        "from sklearn.cluster import DBSCAN\n",
        "\n",
        "def remove_outliers(df, eps=1.3, min_samples=5):\n",
        "  \"\"\"\n",
        "  Remove outliers from a DataFrame using DBSCAN.\n",
        "\n",
        "  Parameters:\n",
        "  df (DataFrame): The input DataFrame.\n",
        "  eps (float): The maximum distance between two samples for one to be considered as in the neighborhood of the other.\n",
        "  min_samples (int): The number of samples in a neighborhood for a point to be considered as a core point.\n",
        "\n",
        "  Returns:\n",
        "  DataFrame: The cleaned DataFrame with outliers removed.\n",
        "  int: The number of outliers removed.\n",
        "  \"\"\"\n",
        "  # Store the 'stabf' column in a separate variable\n",
        "  stabf_labels = df['stabf']\n",
        "\n",
        "  # Remove the 'stabf' column from the DataFrame\n",
        "  df = df.drop(columns=['stabf'])\n",
        "  # Apply DBSCAN\n",
        "  dbscan = DBSCAN(eps=eps, min_samples=min_samples)\n",
        "  clusters = dbscan.fit_predict(df)\n",
        "\n",
        "  # Identify outliers\n",
        "  outlier_indices = list(df.index[clusters == -1])\n",
        "\n",
        "  # Count of removed data points\n",
        "  num_outliers_removed = len(outlier_indices)\n",
        "\n",
        "  # Remove outliers\n",
        "  df_cleaned = df.drop(index=outlier_indices)\n",
        "  stabf_labels_cleaned = stabf_labels.drop(index=outlier_indices)\n",
        "  df_cleaned[\"stabf\"] = stabf_labels_cleaned\n",
        "  return df_cleaned, num_outliers_removed\n",
        "\n",
        "cleaned_data, removed_outliers = remove_outliers(scaled_data_p_removed)\n",
        "print(\"Number of removed outliers: \",removed_outliers)"
      ]
    },
    {
      "cell_type": "code",
      "execution_count": null,
      "metadata": {
        "id": "KXhnBMRf42Q5"
      },
      "outputs": [],
      "source": [
        "import torch.nn as nn\n",
        "import numpy as np\n",
        "\n",
        "class MLP(nn.Module):\n",
        "    def __init__(self, input_size, hidden_sizes, output_size, dropout_p=0.5):\n",
        "        super(MLP, self).__init__()\n",
        "        layers = []\n",
        "        for i, hidden_size in enumerate(hidden_sizes):\n",
        "            if i == 0:\n",
        "                layers.append(nn.Linear(input_size, hidden_size))\n",
        "            else:\n",
        "                layers.append(nn.Linear(hidden_sizes[i - 1], hidden_size))\n",
        "            layers.append(nn.ReLU())\n",
        "            layers.append(nn.Dropout(dropout_p))\n",
        "        self.hidden_layers = nn.Sequential(*layers)\n",
        "        self.output = nn.Linear(hidden_sizes[-1], output_size)\n",
        "        self.sigmoid = nn.Sigmoid()  # Sigmoid layer\n",
        "\n",
        "    def forward(self, x):\n",
        "        x = self.hidden_layers(x)\n",
        "        x = self.output(x)\n",
        "        x = self.sigmoid(x)  # Apply sigmoid to the output\n",
        "        return x"
      ]
    },
    {
      "cell_type": "markdown",
      "metadata": {
        "id": "GkdguPM-_cH5"
      },
      "source": [
        "\n",
        "###Splitting the Data\n",
        "\n",
        "We need to split the data into training, validation and testing data sets. Due to the size of the data being relatively small after cleaning the data, I chose to go with a more conservative training size of **70% training, 15% validation and 15% testing.**I created a function to automatically convert the split data into PyTorch tensors called *df_to_tensor*."
      ]
    },
    {
      "cell_type": "code",
      "execution_count": null,
      "metadata": {
        "id": "REkMI01n_Qm9"
      },
      "outputs": [],
      "source": [
        "import torch\n",
        "from sklearn.model_selection import train_test_split\n",
        "\n",
        "# Changing DataFrame into two PyTorch tensors, input data (x) and output data (y)\n",
        "def df_to_tensor(df, y_label):\n",
        "    x_tensor_data = df.copy()\n",
        "    y_col = x_tensor_data.pop(y_label)\n",
        "    y_tensor_data = torch.tensor(y_col.values, dtype=torch.float32)\n",
        "    y_tensor_data = y_tensor_data.view(-1, 1)\n",
        "    x_tensor_data = torch.tensor(x_tensor_data.values, dtype=torch.float32)\n",
        "    return y_tensor_data, x_tensor_data\n",
        "\n",
        "# Initial number of tests -> train size is 100% - 30% = 70%\n",
        "TEST_PERCENTAGE = 0.3\n",
        "RANDOM_SEED = 1\n",
        "\n",
        "# Creating training data\n",
        "train_data, test_val_data = train_test_split(cleaned_data, test_size=TEST_PERCENTAGE, random_state=RANDOM_SEED)\n",
        "train_data_no_outliers, test_val_data_no_outliers = train_test_split(scaled_data_p_removed, test_size=TEST_PERCENTAGE, random_state=RANDOM_SEED)\n",
        "\n",
        "# Splitting test_val_data into test and val data\n",
        "test_data, val_data = train_test_split(test_val_data, test_size=0.5, random_state=RANDOM_SEED)\n",
        "test_data_no_outliers, val_data_no_outliers = train_test_split(test_val_data_no_outliers, test_size=0.5, random_state=RANDOM_SEED)\n",
        "\n",
        "# Creating tensors for training data and validation data\n",
        "y_train_tensor, x_train_tensor = df_to_tensor(train_data, \"stabf\")\n",
        "y_val_tensor, x_val_tensor = df_to_tensor(val_data, \"stabf\")\n",
        "\n",
        "y_train_tensor_no_outliers, x_train_tensor_no_outliers = df_to_tensor(train_data_no_outliers, \"stabf\")\n",
        "y_val_tensor_no_outliers, x_val_tensor_no_outliers = df_to_tensor(val_data_no_outliers, \"stabf\")"
      ]
    },
    {
      "cell_type": "code",
      "execution_count": null,
      "metadata": {
        "id": "G-i1n0XK-UQG"
      },
      "outputs": [],
      "source": [
        "from collections import deque\n",
        "\n",
        "# Total number of converged epochs before early stopping of algorithm\n",
        "CONVERGENCE_CHECK_EPOCHS = 100\n",
        "\n",
        "# Maximum number of epochs\n",
        "EPOCH_NUMBER = 30_000\n",
        "\n",
        "# Convergence tolerance\n",
        "CONVERGENCE_TOLERANCE = 1e-8\n",
        "\n",
        "# Validation loss patience\n",
        "PATIENCE = 50\n",
        "\n",
        "# Overall stop for training loss\n",
        "LOSS_THRESHOLD = 1e-3\n",
        "\n",
        "def train_model(model, optimizer, criterion, x_train, y_train, x_val, y_val, plot_show=False):\n",
        "    prev_losses = deque(maxlen=CONVERGENCE_CHECK_EPOCHS)\n",
        "    epoch_without_improvement = 0\n",
        "    best_val_loss = float(\"inf\")\n",
        "    train_losses = []\n",
        "    val_losses = []\n",
        "\n",
        "    for epoch in range(EPOCH_NUMBER):\n",
        "        # Forward pass\n",
        "        model.train(True)\n",
        "        pred_output_lr = model(x_train)\n",
        "        y_train = y_train.view(-1, 1)\n",
        "        loss = criterion(pred_output_lr, y_train)\n",
        "        loss_value = loss.item()\n",
        "        train_losses.append(loss_value)\n",
        "\n",
        "        # Backward pass and optimization\n",
        "        optimizer.zero_grad()\n",
        "        loss.backward()\n",
        "        optimizer.step()\n",
        "\n",
        "        model.eval()\n",
        "        val_loss = criterion(model(x_val), y_val)\n",
        "        val_losses.append(val_loss.item())\n",
        "\n",
        "        # Validation loss check\n",
        "        if val_loss < best_val_loss:\n",
        "            best_val_loss = val_loss\n",
        "            epoch_without_improvement = 0\n",
        "        else:\n",
        "            epoch_without_improvement += 1\n",
        "            if epoch_without_improvement >= PATIENCE:\n",
        "                break\n",
        "\n",
        "        # Check for convergence\n",
        "        if len(prev_losses) == CONVERGENCE_CHECK_EPOCHS and abs(\n",
        "                sum(prev_losses) / CONVERGENCE_CHECK_EPOCHS - loss_value) < CONVERGENCE_TOLERANCE:\n",
        "            break\n",
        "\n",
        "        # Update previous losses\n",
        "        prev_losses.append(loss_value)\n",
        "\n",
        "        # Max loss check\n",
        "        if loss_value < LOSS_THRESHOLD:\n",
        "            break\n",
        "    print(f\"Survived {epoch} epochs\")\n",
        "    # Plot the validation loss vs training loss\n",
        "    if plot_show:\n",
        "        plt.figure(figsize=(10, 6))\n",
        "        plt.plot(list(range(len(train_losses))), train_losses, label='Training Loss')\n",
        "        plt.plot(list(range(len(val_losses))), val_losses, label='Validation Loss')\n",
        "        plt.xlabel('Epoch')\n",
        "        plt.ylabel('Loss')\n",
        "        plt.legend()\n",
        "        plt.title('Training and Validation Loss')\n",
        "        plt.grid(True)\n",
        "        plt.savefig(f\"best_model_evals_graph\")\n",
        "        # plt.show()\n",
        "\n",
        "    return model"
      ]
    },
    {
      "cell_type": "markdown",
      "metadata": {
        "id": "_BTotY7n-yPk"
      },
      "source": [
        "<h2>Function Overview</h2>\n",
        "<ol>\n",
        "    <li><strong>Initialization</strong>:\n",
        "        <ul>\n",
        "            <li>A data structure called <code>prev_losses</code> is used to store the last <code>CONVERGENCE_CHECK_EPOCHS</code> loss values for the purpose of checking convergence.</li>\n",
        "            <li>The variable <code>epoch_without_improvement</code> keeps track of the number of epochs without any improvement in validation loss.</li>\n",
        "            <li>Two lists, <code>train_losses</code> and <code>val_losses</code>, are employed to record training and validation losses, respectively.</li>\n",
        "        </ul>\n",
        "    </li>\n",
        "    <li><strong>Training Process</strong>:\n",
        "        <ul>\n",
        "            <li>The function goes through a maximum of <code>EPOCH_NUMBER</code> epochs.\n",
        "                <ol>\n",
        "                    <li><strong>Forward Pass</strong>:\n",
        "                        <ul>\n",
        "                            <li>The model is set to training mode.</li>\n",
        "                            <li>Predictions are generated for the training inputs.</li>\n",
        "                            <li>Training loss is calculated and logged.</li>\n",
        "                        </ul>\n",
        "                    </li>\n",
        "                    <li><strong>Backward Pass and Optimization</strong>:\n",
        "                        <ul>\n",
        "                            <li>Gradients are reset before performing backpropagation on the loss.</li>\n",
        "                            <li>The optimizer updates the model parameters based on these gradients.</li>\n",
        "                        </ul>\n",
        "                    </li>\n",
        "                    <li><strong>Validation</strong>:\n",
        "                        <ul>\n",
        "                            <li>The model switches to evaluation mode.</li>\n",
        "                            <li>Validation loss is computed and stored.</li>\n",
        "                            <li>If there's no improvement in validation loss for a duration determined by <code>PATIENCE</code>, the training process ends prematurely.</li>\n",
        "                        </ul>\n",
        "                    </li>\n",
        "                    <li><strong>Convergence Check</strong>:\n",
        "                        <ul>\n",
        "                            <li>If the average training loss over recent epochs remains relatively stable, the training is stopped.</li>\n",
        "                        </ul>\n",
        "                    </li>\n",
        "                    <li><strong>Max Loss Check</strong>:\n",
        "                        <ul>\n",
        "                            <li>Training is halted if the loss falls below <code>LOSS_THRESHOLD</code>.</li>\n",
        "                        </ul>\n",
        "                    </li>\n",
        "                </ol>\n",
        "            </li>\n",
        "        </ul>\n",
        "    </li>\n",
        "    <li><strong>Plotting (Optional)</strong>:\n",
        "        <ul>\n",
        "            <li>If the <code>plot_show</code> flag is set to true, a visual representation of the training and validation losses over epochs is generated, facilitating a visual inspection of the training process.</li>\n",
        "            <li>This graph is saved as <code>best_model_evals_graph</code>.</li>\n",
        "        </ul>\n",
        "    </li>\n",
        "    <li><strong>Return</strong>:\n",
        "        <ul>\n",
        "            <li>The final trained model is returned as the output of this function.</li>\n",
        "        </ul>\n",
        "    </li>\n",
        "</ol>"
      ]
    },
    {
      "cell_type": "markdown",
      "metadata": {
        "id": "3lDJa2_9F_m_"
      },
      "source": [
        "####PyTorch Deep Learning Model\n",
        "\n",
        "The model chosen to perform the analysis is an Deep Learning Model, stacked on top of DBSCAN, to remove outliers. The previous step was to remove outliers, but we will verify the integrity in future steps. For this model, I decided to also incorporate some hyper parameter tuning via the validation set, and using a libary for Bayesian Optimization for the hyper parameters.\n",
        "\n",
        "**Parameters Chosen:**\n",
        "\n",
        "\n",
        "1.   Learning Rate\n",
        "2.   Hidden Layer Count\n",
        "3.   Neuron/Layer\n",
        "4.   Weight Decay\n",
        "\n",
        "Choosing to change the learning rate, hidden layer count and neuron/layer were based off of fundamental\n",
        "\n",
        "The overall bounds for each were found iteratively, setting higher bounds and running test until lower bounds were found via looking at the validation loss. This introduces error such as the possibility of not finding global solution, but without doing so, there is a larger likely-hood of finding a subpar parameter set, as the parameter space is much larger. ***These hyper parameter sets are, in a sense, random. Due to the nature of the optimization technique, depending on the run, the best parameter set for an optimization may be different run to run.***\n",
        "\n",
        "<br>\n",
        "\n",
        "*Note: Bayesian Optimization relies on continuous values. As hidden layer count and neuron/layer are discrete in nature, rounding was introduced. This introduces issues, as the optimization may 'waste' trials on values that will be rounded, ie. 3.3 and 3.2 will round to 3. Another thing to note is that the optimization for layer count is unideal as well, as Bayesian Optimization does not allow for a dynamic feature space. This means that if the layer count tuning variables are within 1 to 10, and 5 was chosen for the iteration, the optimizer will also attempt to optimize layers that are not being utilized. This was seen where on some runs, the optimizer would stop at a layer count of 1, but the optimizer would continue trying to optimize layers above 1.*"
      ]
    },
    {
      "cell_type": "code",
      "execution_count": null,
      "metadata": {
        "colab": {
          "base_uri": "https://localhost:8080/"
        },
        "id": "M_2aZ8F598NX",
        "outputId": "b057906d-501e-4898-8a82-21eadde54e76"
      },
      "outputs": [
        {
          "output_type": "stream",
          "name": "stdout",
          "text": [
            "best_hyperparameters = {'lr': 0.01467, 'weight_decay': 6.708e-06, 'hidden_sizes': [226]}\n"
          ]
        }
      ],
      "source": [
        "from bayes_opt import BayesianOptimization\n",
        "import math\n",
        "import torch.optim as optim\n",
        "\n",
        "HYPER_PARAM_TRIAL_NUM = 100\n",
        "RANDOM_INIT_POINTS = 10\n",
        "# TUNING PARAMETERS:\n",
        "LR_TUNE = (1e-3, 5e-1)\n",
        "LAYER_TUNE = (1, 1) # keeps constant\n",
        "NEURON_TUNE = (50, 250)\n",
        "DECAY_TUNE = (1e-8, 1e-5)\n",
        "\n",
        "def binary_accuracy(y_true, y_pred):\n",
        "    # Convert predictions to binary (0 or 1) by comparing against a threshold (usually 0.5 for binary classification)\n",
        "    predicted_labels = (y_pred > 0.5).float()\n",
        "\n",
        "    # Compare with the true labels\n",
        "    correct_predictions = (predicted_labels == y_true).float()\n",
        "\n",
        "    # Calculate the mean of correct predictions\n",
        "    accuracy = torch.mean(correct_predictions)\n",
        "    return accuracy\n",
        "\n",
        "def hyperparam_tuning(criterion, x_train, y_train, x_val, y_val):\n",
        "    def objective(**params):\n",
        "        weight_decay = params[\"weight_decay\"]\n",
        "        lr = params[\"lr\"]\n",
        "        hidden_layers = round(params[\"hidden_layers\"])\n",
        "        hidden_sizes = [round(params[f\"hidden_size_layer_{layer}\"]) for layer in range(hidden_layers)]\n",
        "        hidden_sizes = [229, 67, 58]\n",
        "        model = MLP(x_train.shape[1], hidden_sizes, 1)\n",
        "        optimizer = optim.Adam(model.parameters(), lr=lr, weight_decay=weight_decay)\n",
        "        model = train_model(model, optimizer, criterion, x_train, y_train, x_val, y_val)\n",
        "\n",
        "        val_outputs = model(x_val)\n",
        "        val_loss = criterion(val_outputs, y_val)\n",
        "        val_loss_value = -val_loss.item()\n",
        "        accuracy = binary_accuracy(y_val, val_outputs)\n",
        "        print(f\"Validation Loss: {val_loss_value}, Accuracy: {accuracy.item()}\")\n",
        "\n",
        "        if math.isnan(val_loss_value):\n",
        "            print(f\"NaN encountered with params: {params}\")\n",
        "            return float('-999999999')\n",
        "        return val_loss_value\n",
        "\n",
        "    pbounds = {\n",
        "        \"weight_decay\": DECAY_TUNE,\n",
        "        \"lr\": LR_TUNE,\n",
        "        \"hidden_layers\": LAYER_TUNE,\n",
        "    }\n",
        "    for i in range(max(LAYER_TUNE)):\n",
        "        pbounds[f\"hidden_size_layer_{i}\"] = NEURON_TUNE\n",
        "\n",
        "    bayes_optimizer = BayesianOptimization(\n",
        "        f=objective,\n",
        "        pbounds=pbounds,\n",
        "        random_state=1,\n",
        "        verbose=2\n",
        "    )\n",
        "\n",
        "    bayes_optimizer.maximize(\n",
        "        init_points=RANDOM_INIT_POINTS,\n",
        "        n_iter=HYPER_PARAM_TRIAL_NUM - RANDOM_INIT_POINTS,\n",
        "    )\n",
        "\n",
        "    best_params = bayes_optimizer.max['params']\n",
        "    best_params[\"hidden_layers\"] = round(best_params[\"hidden_layers\"])\n",
        "    # Convert hidden sizes to integer values\n",
        "    for i in range(max(LAYER_TUNE)):\n",
        "        key = f\"hidden_size_layer_{i}\"\n",
        "        if key in best_params:\n",
        "            best_params[key] = round(best_params[key])\n",
        "\n",
        "    return best_params\n",
        "\n",
        "\n",
        "# Setting MSE loss as criterion\n",
        "criterion = nn.BCELoss()\n",
        "\n",
        "# Ensure that y_train_tensor and y_val_tensor are binary and converted to float\n",
        "y_train_tensor = y_train_tensor.float()\n",
        "y_val_tensor = y_val_tensor.float()\n",
        "\n",
        "# Ensure that all values are 0 or 1\n",
        "assert y_train_tensor.min() >= 0 and y_train_tensor.max() <= 1\n",
        "assert y_val_tensor.min() >= 0 and y_val_tensor.max() <= 1\n",
        "\n",
        "# Getting best hyper parameters\n",
        "best_hyperparameters = hyperparam_tuning(criterion, x_train_tensor, y_train_tensor, x_val_tensor,   ### UNCOMMENT THE FOLLOWING TO TUNE HYPERPARAMETERS\n",
        "                                             y_val_tensor)\n",
        "# hidden_sizes = [226]\n",
        "# best_hyperparameters = {\"lr\": 0.01467, \"weight_decay\":6.708e-06, \"hidden_sizes\": hidden_sizes}\n",
        "# print(f\"{best_hyperparameters = }\")\n",
        "hidden_layers = best_hyperparameters[\"hidden_layers\"]\n",
        "hidden_sizes = [best_hyperparameters[f\"hidden_size_layer_{i}\"] for i in range(hidden_layers)]\n",
        "\n",
        "# Reinitialize the model with the best hyperparameters\n",
        "best_mlp_model = MLP(x_train_tensor.shape[1], hidden_sizes, 1)\n",
        "best_mlp_optimizer = optim.SGD(best_mlp_model.parameters(), lr=best_hyperparameters[\"lr\"],\n",
        "                                weight_decay=best_hyperparameters[\"weight_decay\"])\n",
        "\n",
        "# Training final model\n",
        "# best_mlp_model = train_model(best_mlp_model, best_mlp_optimizer, criterion,\n",
        "#                               x_train_tensor,\n",
        "#                               y_train_tensor, x_val_tensor, y_val_tensor, plot_show=True)\n",
        "\n",
        "# After testing multiple times (500+ Hyper parameter trials), with 3 layer count (was also tested), best layer architecture when tuned : layers: [229, 67, 58]\n",
        "# Second round of tuning, I tuned learning rate and weight decay: lr: 0.006985, wd: 1e-05\n",
        "\n",
        "## Training time for 25928 epoch -> 3.5 hours -> 210 minutes\n",
        "\n",
        "## Simple architecture: best_hyperparameters = {'lr': 0.01467, 'weight_decay': 6.708e-06, 'hidden_sizes': [226]}"
      ]
    },
    {
      "cell_type": "code",
      "source": [
        "from google.colab import drive\n",
        "drive.mount('/content/drive')\n",
        "\n",
        "import torch\n",
        "import os\n",
        "\n",
        "\n",
        "# Path to save the model in Google Drive\n",
        "save_path = '/content/drive/My Drive/EE_8225_project/overnight_model.pth'\n",
        "\n",
        "# Ensure the directory exists\n",
        "os.makedirs(os.path.dirname(save_path), exist_ok=True)\n",
        "\n",
        "# Save the model state\n",
        "torch.save(best_mlp_model.state_dict(), save_path)\n",
        "\n",
        "print(f\"Model saved to {save_path}\")"
      ],
      "metadata": {
        "id": "gCeNxzGq_Tkl",
        "colab": {
          "base_uri": "https://localhost:8080/",
          "height": 391
        },
        "outputId": "dbc4ee1d-3f23-40e5-bad7-51f75ddd4b60"
      },
      "execution_count": null,
      "outputs": [
        {
          "output_type": "error",
          "ename": "MessageError",
          "evalue": "ignored",
          "traceback": [
            "\u001b[0;31m---------------------------------------------------------------------------\u001b[0m",
            "\u001b[0;31mMessageError\u001b[0m                              Traceback (most recent call last)",
            "\u001b[0;32m<ipython-input-28-8f8dbca94f11>\u001b[0m in \u001b[0;36m<cell line: 2>\u001b[0;34m()\u001b[0m\n\u001b[1;32m      1\u001b[0m \u001b[0;32mfrom\u001b[0m \u001b[0mgoogle\u001b[0m\u001b[0;34m.\u001b[0m\u001b[0mcolab\u001b[0m \u001b[0;32mimport\u001b[0m \u001b[0mdrive\u001b[0m\u001b[0;34m\u001b[0m\u001b[0;34m\u001b[0m\u001b[0m\n\u001b[0;32m----> 2\u001b[0;31m \u001b[0mdrive\u001b[0m\u001b[0;34m.\u001b[0m\u001b[0mmount\u001b[0m\u001b[0;34m(\u001b[0m\u001b[0;34m'/content/drive'\u001b[0m\u001b[0;34m)\u001b[0m\u001b[0;34m\u001b[0m\u001b[0;34m\u001b[0m\u001b[0m\n\u001b[0m\u001b[1;32m      3\u001b[0m \u001b[0;34m\u001b[0m\u001b[0m\n\u001b[1;32m      4\u001b[0m \u001b[0;32mimport\u001b[0m \u001b[0mtorch\u001b[0m\u001b[0;34m\u001b[0m\u001b[0;34m\u001b[0m\u001b[0m\n\u001b[1;32m      5\u001b[0m \u001b[0;32mimport\u001b[0m \u001b[0mos\u001b[0m\u001b[0;34m\u001b[0m\u001b[0;34m\u001b[0m\u001b[0m\n",
            "\u001b[0;32m/usr/local/lib/python3.10/dist-packages/google/colab/drive.py\u001b[0m in \u001b[0;36mmount\u001b[0;34m(mountpoint, force_remount, timeout_ms, readonly)\u001b[0m\n\u001b[1;32m    101\u001b[0m \u001b[0;32mdef\u001b[0m \u001b[0mmount\u001b[0m\u001b[0;34m(\u001b[0m\u001b[0mmountpoint\u001b[0m\u001b[0;34m,\u001b[0m \u001b[0mforce_remount\u001b[0m\u001b[0;34m=\u001b[0m\u001b[0;32mFalse\u001b[0m\u001b[0;34m,\u001b[0m \u001b[0mtimeout_ms\u001b[0m\u001b[0;34m=\u001b[0m\u001b[0;36m120000\u001b[0m\u001b[0;34m,\u001b[0m \u001b[0mreadonly\u001b[0m\u001b[0;34m=\u001b[0m\u001b[0;32mFalse\u001b[0m\u001b[0;34m)\u001b[0m\u001b[0;34m:\u001b[0m\u001b[0;34m\u001b[0m\u001b[0;34m\u001b[0m\u001b[0m\n\u001b[1;32m    102\u001b[0m   \u001b[0;34m\"\"\"Mount your Google Drive at the specified mountpoint path.\"\"\"\u001b[0m\u001b[0;34m\u001b[0m\u001b[0;34m\u001b[0m\u001b[0m\n\u001b[0;32m--> 103\u001b[0;31m   return _mount(\n\u001b[0m\u001b[1;32m    104\u001b[0m       \u001b[0mmountpoint\u001b[0m\u001b[0;34m,\u001b[0m\u001b[0;34m\u001b[0m\u001b[0;34m\u001b[0m\u001b[0m\n\u001b[1;32m    105\u001b[0m       \u001b[0mforce_remount\u001b[0m\u001b[0;34m=\u001b[0m\u001b[0mforce_remount\u001b[0m\u001b[0;34m,\u001b[0m\u001b[0;34m\u001b[0m\u001b[0;34m\u001b[0m\u001b[0m\n",
            "\u001b[0;32m/usr/local/lib/python3.10/dist-packages/google/colab/drive.py\u001b[0m in \u001b[0;36m_mount\u001b[0;34m(mountpoint, force_remount, timeout_ms, ephemeral, readonly)\u001b[0m\n\u001b[1;32m    130\u001b[0m   )\n\u001b[1;32m    131\u001b[0m   \u001b[0;32mif\u001b[0m \u001b[0mephemeral\u001b[0m\u001b[0;34m:\u001b[0m\u001b[0;34m\u001b[0m\u001b[0;34m\u001b[0m\u001b[0m\n\u001b[0;32m--> 132\u001b[0;31m     _message.blocking_request(\n\u001b[0m\u001b[1;32m    133\u001b[0m         \u001b[0;34m'request_auth'\u001b[0m\u001b[0;34m,\u001b[0m \u001b[0mrequest\u001b[0m\u001b[0;34m=\u001b[0m\u001b[0;34m{\u001b[0m\u001b[0;34m'authType'\u001b[0m\u001b[0;34m:\u001b[0m \u001b[0;34m'dfs_ephemeral'\u001b[0m\u001b[0;34m}\u001b[0m\u001b[0;34m,\u001b[0m \u001b[0mtimeout_sec\u001b[0m\u001b[0;34m=\u001b[0m\u001b[0;32mNone\u001b[0m\u001b[0;34m\u001b[0m\u001b[0;34m\u001b[0m\u001b[0m\n\u001b[1;32m    134\u001b[0m     )\n",
            "\u001b[0;32m/usr/local/lib/python3.10/dist-packages/google/colab/_message.py\u001b[0m in \u001b[0;36mblocking_request\u001b[0;34m(request_type, request, timeout_sec, parent)\u001b[0m\n\u001b[1;32m    174\u001b[0m       \u001b[0mrequest_type\u001b[0m\u001b[0;34m,\u001b[0m \u001b[0mrequest\u001b[0m\u001b[0;34m,\u001b[0m \u001b[0mparent\u001b[0m\u001b[0;34m=\u001b[0m\u001b[0mparent\u001b[0m\u001b[0;34m,\u001b[0m \u001b[0mexpect_reply\u001b[0m\u001b[0;34m=\u001b[0m\u001b[0;32mTrue\u001b[0m\u001b[0;34m\u001b[0m\u001b[0;34m\u001b[0m\u001b[0m\n\u001b[1;32m    175\u001b[0m   )\n\u001b[0;32m--> 176\u001b[0;31m   \u001b[0;32mreturn\u001b[0m \u001b[0mread_reply_from_input\u001b[0m\u001b[0;34m(\u001b[0m\u001b[0mrequest_id\u001b[0m\u001b[0;34m,\u001b[0m \u001b[0mtimeout_sec\u001b[0m\u001b[0;34m)\u001b[0m\u001b[0;34m\u001b[0m\u001b[0;34m\u001b[0m\u001b[0m\n\u001b[0m",
            "\u001b[0;32m/usr/local/lib/python3.10/dist-packages/google/colab/_message.py\u001b[0m in \u001b[0;36mread_reply_from_input\u001b[0;34m(message_id, timeout_sec)\u001b[0m\n\u001b[1;32m    101\u001b[0m     ):\n\u001b[1;32m    102\u001b[0m       \u001b[0;32mif\u001b[0m \u001b[0;34m'error'\u001b[0m \u001b[0;32min\u001b[0m \u001b[0mreply\u001b[0m\u001b[0;34m:\u001b[0m\u001b[0;34m\u001b[0m\u001b[0;34m\u001b[0m\u001b[0m\n\u001b[0;32m--> 103\u001b[0;31m         \u001b[0;32mraise\u001b[0m \u001b[0mMessageError\u001b[0m\u001b[0;34m(\u001b[0m\u001b[0mreply\u001b[0m\u001b[0;34m[\u001b[0m\u001b[0;34m'error'\u001b[0m\u001b[0;34m]\u001b[0m\u001b[0;34m)\u001b[0m\u001b[0;34m\u001b[0m\u001b[0;34m\u001b[0m\u001b[0m\n\u001b[0m\u001b[1;32m    104\u001b[0m       \u001b[0;32mreturn\u001b[0m \u001b[0mreply\u001b[0m\u001b[0;34m.\u001b[0m\u001b[0mget\u001b[0m\u001b[0;34m(\u001b[0m\u001b[0;34m'data'\u001b[0m\u001b[0;34m,\u001b[0m \u001b[0;32mNone\u001b[0m\u001b[0;34m)\u001b[0m\u001b[0;34m\u001b[0m\u001b[0;34m\u001b[0m\u001b[0m\n\u001b[1;32m    105\u001b[0m \u001b[0;34m\u001b[0m\u001b[0m\n",
            "\u001b[0;31mMessageError\u001b[0m: Error: credential propagation was unsuccessful"
          ]
        }
      ]
    },
    {
      "cell_type": "code",
      "execution_count": null,
      "metadata": {
        "id": "s2SOml_ciCyE",
        "colab": {
          "base_uri": "https://localhost:8080/",
          "height": 1000
        },
        "outputId": "0c8c01ab-63e6-4c9c-dbe7-249f5a81450c"
      },
      "outputs": [
        {
          "ename": "KeyboardInterrupt",
          "evalue": "ignored",
          "output_type": "error",
          "traceback": [
            "\u001b[0;31m---------------------------------------------------------------------------\u001b[0m",
            "\u001b[0;31mKeyboardInterrupt\u001b[0m                         Traceback (most recent call last)",
            "\u001b[0;32m/usr/local/lib/python3.10/dist-packages/numpy/core/overrides.py\u001b[0m in \u001b[0;36mwhere\u001b[0;34m(*args, **kwargs)\u001b[0m\n",
            "\u001b[0;31mKeyboardInterrupt\u001b[0m: "
          ]
        },
        {
          "metadata": {
            "tags": null
          },
          "name": "stderr",
          "output_type": "stream",
          "text": [
            "Exception ignored in: 'sklearn.cluster._k_means_common._relocate_empty_clusters_dense'\n",
            "Traceback (most recent call last):\n",
            "  File \"<__array_function__ internals>\", line 177, in where\n",
            "KeyboardInterrupt: \n"
          ]
        },
        {
          "ename": "KeyboardInterrupt",
          "evalue": "ignored",
          "output_type": "error",
          "traceback": [
            "\u001b[0;31m---------------------------------------------------------------------------\u001b[0m",
            "\u001b[0;31mKeyboardInterrupt\u001b[0m                         Traceback (most recent call last)",
            "\u001b[0;32m/usr/local/lib/python3.10/dist-packages/numpy/core/overrides.py\u001b[0m in \u001b[0;36mwhere\u001b[0;34m(*args, **kwargs)\u001b[0m\n",
            "\u001b[0;31mKeyboardInterrupt\u001b[0m: "
          ]
        },
        {
          "metadata": {
            "tags": null
          },
          "name": "stderr",
          "output_type": "stream",
          "text": [
            "Exception ignored in: 'sklearn.cluster._k_means_common._relocate_empty_clusters_dense'\n",
            "Traceback (most recent call last):\n",
            "  File \"<__array_function__ internals>\", line 177, in where\n",
            "KeyboardInterrupt: \n"
          ]
        },
        {
          "output_type": "error",
          "ename": "KeyboardInterrupt",
          "evalue": "ignored",
          "traceback": [
            "\u001b[0;31m---------------------------------------------------------------------------\u001b[0m",
            "\u001b[0;31mKeyboardInterrupt\u001b[0m                         Traceback (most recent call last)",
            "\u001b[0;32m/usr/local/lib/python3.10/dist-packages/numpy/core/overrides.py\u001b[0m in \u001b[0;36mwhere\u001b[0;34m(*args, **kwargs)\u001b[0m\n",
            "\u001b[0;31mKeyboardInterrupt\u001b[0m: "
          ]
        },
        {
          "output_type": "stream",
          "name": "stderr",
          "text": [
            "Exception ignored in: 'sklearn.cluster._k_means_common._relocate_empty_clusters_dense'\n",
            "Traceback (most recent call last):\n",
            "  File \"<__array_function__ internals>\", line 177, in where\n",
            "KeyboardInterrupt: \n"
          ]
        },
        {
          "output_type": "stream",
          "name": "stdout",
          "text": [
            "Cluster Counts:\n",
            "1    21820\n",
            "2    18423\n",
            "0    18023\n",
            "Name: Cluster, dtype: int64\n",
            "\n",
            "Sample documents from Cluster 0:\n",
            "        tau1      tau2      tau3      tau4        p1        g1        g2  \\\n",
            "0  -0.835374 -0.791316  1.141704  1.652104  0.017397  0.457467  1.220013   \n",
            "1   1.478297 -0.126705 -0.803110 -1.415046  1.752124 -0.406791  1.230355   \n",
            "7   0.621173 -1.411485  0.171163  0.955475 -0.698696 -0.560144  0.394555   \n",
            "9   1.674255 -1.398833  1.648130  0.872084  1.299782 -0.542017  0.070796   \n",
            "12 -1.324824 -0.842605 -1.615441 -0.385863  0.003034  1.366307  1.245421   \n",
            "\n",
            "          g3        g4  Cluster  stabf  \n",
            "0   1.321628  1.579026        0      1  \n",
            "1   0.135424  0.936255        0      0  \n",
            "7   0.757511 -0.526747        0      1  \n",
            "9   0.973739 -1.490431        0      1  \n",
            "12 -0.806151 -1.631375        0      0  \n",
            "\n",
            "Sample documents from Cluster 1:\n",
            "        tau1      tau2      tau3      tau4        p1        g1        g2  \\\n",
            "5   0.637836  1.407244 -0.534542 -0.358156  0.903668 -0.959762 -1.630210   \n",
            "6   0.532439 -0.541419  0.612349  1.301248 -1.798352 -1.265709 -0.463182   \n",
            "8  -0.204254 -0.452978 -1.375222 -0.552875  0.387303 -0.930899 -1.001440   \n",
            "11  0.047877  1.008061  1.037470  0.553982  2.336788 -0.601753 -1.281469   \n",
            "13  1.203903  1.117611 -0.984547  1.705361  1.517989  0.318710 -0.889791   \n",
            "\n",
            "          g3        g4  Cluster  stabf  \n",
            "5   0.065211 -0.200806        1      0  \n",
            "6  -0.448344 -0.541020        1      1  \n",
            "8  -1.312929 -0.155195        1      0  \n",
            "11 -0.641247  0.378719        1      1  \n",
            "13 -0.622291 -0.192561        1      1  \n",
            "\n",
            "Sample documents from Cluster 2:\n",
            "        tau1      tau2      tau3      tau4        p1        g1        g2  \\\n",
            "2   1.357093  1.312139 -0.803497 -1.471507 -0.458492 -1.319852  0.881299   \n",
            "3  -1.653138  0.882288 -0.278353 -1.060904  0.284250 -0.287304  1.647250   \n",
            "4  -0.771543  0.860108 -0.111668  1.680116 -0.298075  0.992226 -0.253610   \n",
            "10  0.247997  0.539989  0.362869 -1.719913 -1.891857 -1.039900  0.138963   \n",
            "18  1.493622  0.973605 -1.062832 -0.722290  1.105105  1.134314  0.686452   \n",
            "\n",
            "          g3        g4  Cluster  stabf  \n",
            "2   1.146596 -1.513803        2      1  \n",
            "3   1.474543 -0.591751        2      1  \n",
            "4   0.481133  1.079062        2      1  \n",
            "10 -1.314679  0.833942        2      0  \n",
            "18 -1.325412 -0.032880        2      1  \n"
          ]
        }
      ],
      "source": [
        "from sklearn.cluster import KMeans\n",
        "\n",
        "def cluster_kmeansPP(df, n_clusters=2):\n",
        "    # Store the 'stabf' column in a separate variable\n",
        "    stabf_labels = df['stabf']\n",
        "\n",
        "    # Remove the 'stabf' column from the DataFrame\n",
        "    df = df.drop(columns=['stabf'])\n",
        "\n",
        "    # Initialize KMeans with specified number of clusters\n",
        "    kmeans = KMeans(n_clusters=n_clusters, init='k-means++', n_init=1000, max_iter=3000, random_state=57)\n",
        "\n",
        "    # Fit KMeans to the reduced TF-IDF matrix\n",
        "    kmeans.fit(df)\n",
        "\n",
        "    # Get cluster labels for each document\n",
        "    cluster_labels = kmeans.labels_\n",
        "\n",
        "    # Add cluster labels to the DataFrame\n",
        "    df['Cluster'] = cluster_labels\n",
        "\n",
        "    # Add the 'stabf' column back to the DataFrame\n",
        "    df['stabf'] = stabf_labels\n",
        "\n",
        "    # Count the number of documents in each cluster\n",
        "    cluster_counts = df['Cluster'].value_counts()\n",
        "    print(\"Cluster Counts:\")\n",
        "    print(cluster_counts)\n",
        "\n",
        "    # Compare cluster labels with 'stabf' labels\n",
        "    comparison = df[['Cluster', 'stabf']]\n",
        "\n",
        "    # Display a few documents from each cluster for manual inspection\n",
        "    for cluster in range(n_clusters):\n",
        "        print(f\"\\nSample documents from Cluster {cluster}:\")\n",
        "        print(df[df['Cluster'] == cluster].head())\n",
        "\n",
        "    return df, comparison\n",
        "\n",
        "# Usage:\n",
        "clustered_df, comparison = cluster_kmeansPP(cleaned_data, n_clusters=3)\n"
      ]
    },
    {
      "cell_type": "code",
      "execution_count": null,
      "metadata": {
        "id": "Oig8HckJkHq3"
      },
      "outputs": [],
      "source": [
        "from sklearn.metrics import accuracy_score\n",
        "\n",
        "def determine_accuracy(df):\n",
        "    # Assuming df has two columns: 'Cluster' and 'stabf'\n",
        "\n",
        "    # Calculate accuracy for both possible mappings\n",
        "    # Mapping 1: Cluster 0 -> 'stabf' 0 and Cluster 1 -> 'stabf' 1\n",
        "    mapping1_accuracy = accuracy_score(df['stabf'], df['Cluster'])\n",
        "\n",
        "    # Mapping 2: Cluster 0 -> 'stabf' 1 and Cluster 1 -> 'stabf' 0\n",
        "    # Invert the cluster labels (0 becomes 1 and 1 becomes 0)\n",
        "    inverted_cluster_labels = 1 - df['Cluster']\n",
        "    mapping2_accuracy = accuracy_score(df['stabf'], inverted_cluster_labels)\n",
        "\n",
        "    # Choose the mapping with the higher accuracy\n",
        "    if mapping1_accuracy > mapping2_accuracy:\n",
        "        best_accuracy = mapping1_accuracy\n",
        "        best_mapping = {0: 0, 1: 1}\n",
        "    else:\n",
        "        best_accuracy = mapping2_accuracy\n",
        "        best_mapping = {0: 1, 1: 0}\n",
        "\n",
        "    return best_accuracy, best_mapping\n",
        "\n",
        "# Usage\n",
        "accuracy, mapping = determine_accuracy(comparison)\n",
        "print(f\"Accuracy: {accuracy}\")\n",
        "print(\"Best Cluster to STABF Mapping:\", mapping)\n"
      ]
    },
    {
      "cell_type": "code",
      "source": [
        "from google.colab import drive\n",
        "drive.mount('/content/drive')\n",
        "best_mlp_model = MLP(x_train_tensor.shape[1], [229, 67, 58], 1)\n",
        "best_mlp_model.load_state_dict(torch.load(\"./sample_data/overnight_model_30000.pth\"))"
      ],
      "metadata": {
        "id": "vNZy934-9lpK",
        "colab": {
          "base_uri": "https://localhost:8080/"
        },
        "outputId": "518243c3-c3c4-4d61-9d17-a9413313e7c7"
      },
      "execution_count": null,
      "outputs": [
        {
          "output_type": "stream",
          "name": "stdout",
          "text": [
            "Drive already mounted at /content/drive; to attempt to forcibly remount, call drive.mount(\"/content/drive\", force_remount=True).\n"
          ]
        },
        {
          "output_type": "execute_result",
          "data": {
            "text/plain": [
              "<All keys matched successfully>"
            ]
          },
          "metadata": {},
          "execution_count": 32
        }
      ]
    },
    {
      "cell_type": "code",
      "execution_count": null,
      "metadata": {
        "colab": {
          "base_uri": "https://localhost:8080/"
        },
        "id": "VNqR0NNL_4lh",
        "outputId": "0f7a9ce9-8d38-442c-c159-fd21c7626bc6"
      },
      "outputs": [
        {
          "output_type": "stream",
          "name": "stdout",
          "text": [
            "\n",
            "EVALUATION\n",
            "\n",
            "Mean Squared Error (PyTorch MLP) on the Test Set: 0.0499\n",
            "Binary Cross Entropy Loss (PyTorch MLP) on the Test Set: 0.1435\n",
            "Accuracy (PyTorch MLP) on the Test Set: 0.9501\n",
            "\n"
          ]
        }
      ],
      "source": [
        "y_test_tensor_actual, x_test_tensor = df_to_tensor(test_data, \"stabf\")\n",
        "y_test_tensor_actual, x_test_tensor = df_to_tensor(test_data, \"stabf\")\n",
        "x_test_tensor = x_test_tensor\n",
        "\n",
        "\n",
        "\n",
        "def eval_model(y_pred, y_target, model_name, threshold=0.617):\n",
        "    # y_pred is assumed to be the raw probabilities from the model's sigmoid output\n",
        "\n",
        "    # Convert probabilities to binary predictions for accuracy calculation\n",
        "    y_pred_binary = (y_pred > threshold).float()\n",
        "\n",
        "    # Calculate Binary Cross Entropy Loss using raw probabilities\n",
        "    BCE = nn.BCELoss()(y_pred, y_target)\n",
        "\n",
        "    # Calculate Mean Squared Error using binary predictions\n",
        "    mse = nn.MSELoss()(y_pred_binary, y_target)\n",
        "\n",
        "    # Calculate accuracy using binary predictions\n",
        "    correct_predictions = (y_pred_binary == y_target).float()\n",
        "    accuracy = correct_predictions.sum() / len(correct_predictions)\n",
        "\n",
        "    print(f\"Mean Squared Error ({model_name}) on the Test Set: {mse.item():.4f}\")\n",
        "    print(f\"Binary Cross Entropy Loss ({model_name}) on the Test Set: {BCE.item():.4f}\")\n",
        "    print(f\"Accuracy ({model_name}) on the Test Set: {accuracy:.4f}\\n\")\n",
        "\n",
        "    return mse.item(), BCE.item(), accuracy.item()\n",
        "\n",
        "\n",
        "with torch.no_grad():\n",
        "    # best_mlp_model.to(\"cpu\")\n",
        "    best_mlp_model.eval()\n",
        "    y_test_pred_tensor_mlp = best_mlp_model(x_test_tensor)\n",
        "\n",
        "    y_test_tensor_actual = y_test_tensor_actual.view(-1, 1)\n",
        "\n",
        "    print(\"\\nEVALUATION\\n\")\n",
        "    mse_mlp, bce_mlp, accuracy_mlp = eval_model(y_test_pred_tensor_mlp, y_test_tensor_actual, \"PyTorch MLP\")"
      ]
    },
    {
      "cell_type": "markdown",
      "metadata": {
        "id": "wVqXlDdTRcBV"
      },
      "source": [
        "Items to do:\n",
        "\n",
        "Remove some data, lets say: corrupt 10% of files\n",
        "- essentially get rid of 10% of values randomly\n",
        "\n",
        "Figure out how to fill in data\n",
        "\n",
        "Retest against benchmark"
      ]
    },
    {
      "cell_type": "code",
      "execution_count": null,
      "metadata": {
        "id": "xe3XJ-IBTDay"
      },
      "outputs": [],
      "source": [
        "from sklearn.impute import KNNImputer\n",
        "from sklearn.cluster import KMeans\n",
        "from sklearn.impute import SimpleImputer\n",
        "from sklearn.experimental import enable_iterative_imputer\n",
        "from sklearn.impute import IterativeImputer\n",
        "\n",
        "def remove_random_data_pytorch(tensor, percent=0.1):\n",
        "    # Create a mask with the same shape as the tensor\n",
        "    mask = torch.rand_like(tensor, dtype=torch.float32) < percent\n",
        "\n",
        "    # Clone the tensor and apply the mask\n",
        "    tensor_with_missing = tensor.clone()\n",
        "    tensor_with_missing[mask] = torch.nan\n",
        "\n",
        "    return tensor_with_missing\n",
        "\n",
        "\n",
        "def impute_with_knn_tensor(tensor, n_neighbors=5):\n",
        "    # Ensure the tensor is on CPU and convert it to a NumPy array\n",
        "    numpy_tensor = tensor.detach().cpu().numpy()\n",
        "\n",
        "    # Create the KNN imputer instance\n",
        "    imputer = KNNImputer(n_neighbors=n_neighbors)\n",
        "\n",
        "    # Apply the imputer to the numpy array\n",
        "    imputed_data = imputer.fit_transform(numpy_tensor)\n",
        "\n",
        "    # Convert the imputed data back to a PyTorch tensor\n",
        "    imputed_tensor = torch.from_numpy(imputed_data).float()\n",
        "\n",
        "    return imputed_tensor\n",
        "\n",
        "def impute_with_optimized_knn_tensor(tensor, n_neighbors=60, weights='uniform'):\n",
        "    # Ensure the tensor is on CPU and convert it to a NumPy array\n",
        "    numpy_tensor = tensor.detach().cpu().numpy()\n",
        "\n",
        "    # Optional: Scale the features\n",
        "    scaler = StandardScaler()\n",
        "    scaled_data = scaler.fit_transform(numpy_tensor)\n",
        "\n",
        "    # Create the KNN imputer instance with optimized parameters\n",
        "    imputer = KNNImputer(n_neighbors=n_neighbors, weights=weights)\n",
        "\n",
        "    # Apply the imputer to the scaled data\n",
        "    imputed_data = imputer.fit_transform(scaled_data)\n",
        "\n",
        "    # Inverse transform the data to original scale\n",
        "    original_scale_data = scaler.inverse_transform(imputed_data)\n",
        "\n",
        "    # Convert the imputed data back to a PyTorch tensor\n",
        "    imputed_tensor = torch.from_numpy(original_scale_data).float()\n",
        "\n",
        "    return imputed_tensor\n",
        "\n",
        "def impute_with_mice_tensor(tensor, n_imputations=50, max_iter=100):\n",
        "    # Ensure the tensor is on CPU and convert it to a NumPy array\n",
        "    numpy_tensor = tensor.detach().cpu().numpy()\n",
        "\n",
        "    # Create the MICE imputer instance\n",
        "    imputer = IterativeImputer(max_iter=max_iter, random_state=0, n_nearest_features=None, sample_posterior=True, imputation_order='ascending')\n",
        "\n",
        "    # Perform multiple imputations\n",
        "    complete_data = []\n",
        "    for _ in range(n_imputations):\n",
        "        imputed_data = imputer.fit_transform(numpy_tensor)\n",
        "        complete_data.append(imputed_data)\n",
        "\n",
        "    # Average the imputations for the final result\n",
        "    final_imputed_data = np.mean(complete_data, axis=0)\n",
        "\n",
        "    # Convert the imputed data back to a PyTorch tensor\n",
        "    imputed_tensor = torch.from_numpy(final_imputed_data).float()\n",
        "\n",
        "    return imputed_tensor"
      ]
    },
    {
      "cell_type": "code",
      "execution_count": null,
      "metadata": {
        "colab": {
          "base_uri": "https://localhost:8080/"
        },
        "id": "c1X6c8rfTHK4",
        "outputId": "662c5c5e-8b97-4bbe-997c-2d1e008c2757"
      },
      "outputs": [
        {
          "output_type": "stream",
          "name": "stdout",
          "text": [
            "\n",
            "EVALUATION\n",
            "\n",
            "Mean Squared Error (PyTorch MLP DATA IMPUTED) on the Test Set: 0.2529\n",
            "Binary Cross Entropy Loss (PyTorch MLP DATA IMPUTED) on the Test Set: 0.8265\n",
            "Accuracy (PyTorch MLP DATA IMPUTED) on the Test Set: 0.7471\n",
            "\n",
            "Mean Squared Error (PyTorch MLP DATA IMPUTED OPTIMIZED) on the Test Set: 0.2525\n",
            "Binary Cross Entropy Loss (PyTorch MLP DATA IMPUTED OPTIMIZED) on the Test Set: 0.8108\n",
            "Accuracy (PyTorch MLP DATA IMPUTED OPTIMIZED) on the Test Set: 0.7475\n",
            "\n",
            "Mean Squared Error (PyTorch MLP DATA IMPUTED OPTIMIZED (MICE)) on the Test Set: 0.2508\n",
            "Binary Cross Entropy Loss (PyTorch MLP DATA IMPUTED OPTIMIZED (MICE)) on the Test Set: 0.8131\n",
            "Accuracy (PyTorch MLP DATA IMPUTED OPTIMIZED (MICE)) on the Test Set: 0.7492\n",
            "\n"
          ]
        }
      ],
      "source": [
        "# Assuming 'tensor_data' is your original data in NumPy array format\n",
        "tensor_data_with_missing_values = remove_random_data_pytorch(x_test_tensor, percent=0.5)\n",
        "tensor_data_imputed = impute_with_knn_tensor(tensor_data_with_missing_values)\n",
        "tensor_data_imputed_optim = impute_with_optimized_knn_tensor(tensor_data_with_missing_values)\n",
        "tensor_data_imputed_MICE = impute_with_mice_tensor(tensor_data_with_missing_values)\n",
        "y_test_tensor_actual, x_test_tensor = df_to_tensor(test_data, \"stabf\")\n",
        "y_test_tensor_actual = y_test_tensor_actual\n",
        "\n",
        "\n",
        "\n",
        "with torch.no_grad():\n",
        "    best_mlp_model.to(\"cpu\")\n",
        "    best_mlp_model.eval()\n",
        "    y_test_pred_tensor_mlp_impute = best_mlp_model(tensor_data_imputed)\n",
        "    y_test_pred_tensor_mlp_impute_optim = best_mlp_model(tensor_data_imputed_optim)\n",
        "    y_test_pred_tensor_mlp_impute_MICE = best_mlp_model(tensor_data_imputed_MICE)\n",
        "    y_test_tensor_actual = y_test_tensor_actual.view(-1, 1)\n",
        "\n",
        "    print(\"\\nEVALUATION\\n\")\n",
        "    mse_mlp2, bce_mlp2, accuracy_mlp2 = eval_model(y_test_pred_tensor_mlp_impute, y_test_tensor_actual, \"PyTorch MLP DATA IMPUTED\")\n",
        "    mse_mlp3, bce_mlp3, accuracy_mlp3 = eval_model(y_test_pred_tensor_mlp_impute_optim, y_test_tensor_actual, \"PyTorch MLP DATA IMPUTED OPTIMIZED\")\n",
        "    mse_mlp4, bce_mlp4, accuracy_mlp4 = eval_model(y_test_pred_tensor_mlp_impute_MICE, y_test_tensor_actual, \"PyTorch MLP DATA IMPUTED OPTIMIZED (MICE)\")\n"
      ]
    }
  ],
  "metadata": {
    "colab": {
      "provenance": [],
      "authorship_tag": "ABX9TyMDFF8ZjRdCOxwM4XYk/IGQ",
      "include_colab_link": true
    },
    "kernelspec": {
      "display_name": "Python 3",
      "name": "python3"
    },
    "language_info": {
      "name": "python"
    }
  },
  "nbformat": 4,
  "nbformat_minor": 0
}